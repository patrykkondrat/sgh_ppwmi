{
 "cells": [
  {
   "cell_type": "markdown",
   "metadata": {},
   "source": [
    "# Hacking Incident\n",
    "\n",
    "We're being hacked! We need your help to get a message to the main server.\n",
    "\n",
    "We need you to accomplish 3 tasks:\n",
    "\n",
    "1. Create a Caeser cipher encryption function.\n",
    "2. Create another function that decrypts a Caeser cipher message.\n",
    "\n",
    "We've set up a framework for you to follow here in this notebook. Feel free to use it, or create your own base functions."
   ]
  },
  {
   "cell_type": "markdown",
   "metadata": {},
   "source": [
    "## Encryption Function\n",
    "\n",
    "This function should take in two parameters, the plain text message and the shift number for the Caeser cipher.\n",
    "\n",
    "To create the cipher you will need to create a list of the alphabet. You can either write out the alphabet manually, or use the [string library](https://docs.python.org/3/library/string.html?highlight=string#module-string) to get all the lowercase alphabet. You will first need to run *import string* , and then call the attribute. For example:\n",
    "\n",
    "    import string\n",
    "    alphabet = string.ascii_lowercase\n",
    "    print(alphabet)\n",
    "    print(list(alphabet))\n",
    "    \n",
    "An empty function with some comments is here below for you to fill out:"
   ]
  },
  {
   "cell_type": "code",
   "execution_count": 9,
   "metadata": {
    "collapsed": true,
    "ExecuteTime": {
     "end_time": "2023-10-20T18:40:54.269438971Z",
     "start_time": "2023-10-20T18:40:54.241683622Z"
    }
   },
   "outputs": [],
   "source": [
    "import string\n",
    "\n",
    "\n",
    "def encrypt(text,shift):\n",
    "    '''\n",
    "    INPUT: text as a string and an integer for the shift value.\n",
    "    OUTPUT: The shifted text after being run through the Caeser cipher.\n",
    "    '''\n",
    "    \n",
    "    # Create a list of the lowercase alphabet\n",
    "    alphabet = string.ascii_lowercase\n",
    "\n",
    "    # Initialize an empty string to store the encrypted message\n",
    "    encrypted_text = ''\n",
    "\n",
    "    for char in text:\n",
    "        if char in alphabet:\n",
    "            # Find the index of the character in the alphabet\n",
    "            char_index = alphabet.index(char)\n",
    "            # Shift the character by the specified amount\n",
    "            encrypted_char = alphabet[(char_index + shift) % 26]\n",
    "            encrypted_text += encrypted_char\n",
    "        else:\n",
    "            # If the character is not in the alphabet (e.g., space or punctuation), keep it unchanged\n",
    "            encrypted_text += char\n",
    "\n",
    "    return encrypted_text"
   ]
  },
  {
   "cell_type": "markdown",
   "metadata": {},
   "source": [
    "** An example input and output: **"
   ]
  },
  {
   "cell_type": "code",
   "execution_count": 10,
   "metadata": {
    "ExecuteTime": {
     "end_time": "2023-10-20T18:40:56.953137723Z",
     "start_time": "2023-10-20T18:40:56.900841170Z"
    }
   },
   "outputs": [
    {
     "data": {
      "text/plain": "'Grg guvf zrffntr gb gur znva freire'"
     },
     "execution_count": 10,
     "metadata": {},
     "output_type": "execute_result"
    }
   ],
   "source": [
    "encrypt('Get this message to the main server',13)"
   ]
  },
  {
   "cell_type": "markdown",
   "metadata": {},
   "source": [
    "## Decryption\n",
    "\n",
    "Now create a new function that will \"decrypt\" a shifted message. It should basically do the reverse of the encryption function. The process will be very similar as your previous function, but the alphabets will be switched."
   ]
  },
  {
   "cell_type": "code",
   "execution_count": 11,
   "metadata": {
    "collapsed": true,
    "ExecuteTime": {
     "end_time": "2023-10-20T18:41:36.665411951Z",
     "start_time": "2023-10-20T18:41:36.656459483Z"
    }
   },
   "outputs": [],
   "source": [
    "def decrypt(text,shift):\n",
    "    '''\n",
    "    INPUT: A shifted message and the integer shift value\n",
    "    OUTPUT: The plain text original message.\n",
    "    '''\n",
    "    alphabet = string.ascii_lowercase\n",
    "\n",
    "    # Initialize an empty string to store the decrypted message\n",
    "    decrypted_text = ''\n",
    "\n",
    "    for char in text:\n",
    "        if char in alphabet:\n",
    "            # Find the index of the character in the alphabet\n",
    "            char_index = alphabet.index(char)\n",
    "            # Shift the character in the reverse direction to decrypt\n",
    "            decrypted_char = alphabet[(char_index - shift) % 26]\n",
    "            decrypted_text += decrypted_char\n",
    "        else:\n",
    "            # If the character is not in the alphabet (e.g., space or punctuation), keep it unchanged\n",
    "            decrypted_text += char\n",
    "\n",
    "    return decrypted_text"
   ]
  },
  {
   "cell_type": "markdown",
   "metadata": {},
   "source": [
    "** Here is an example output: **"
   ]
  },
  {
   "cell_type": "code",
   "execution_count": 18,
   "metadata": {
    "ExecuteTime": {
     "end_time": "2023-10-20T18:41:45.784895788Z",
     "start_time": "2023-10-20T18:41:45.768161244Z"
    }
   },
   "outputs": [
    {
     "data": {
      "text/plain": "'get this message to the main server'"
     },
     "execution_count": 18,
     "metadata": {},
     "output_type": "execute_result"
    }
   ],
   "source": [
    "decrypt('trg guvf zrffntr gb gur znva freire',13)"
   ]
  }
 ],
 "metadata": {
  "kernelspec": {
   "display_name": "Python 3",
   "language": "python",
   "name": "python3"
  },
  "language_info": {
   "codemirror_mode": {
    "name": "ipython",
    "version": 3
   },
   "file_extension": ".py",
   "mimetype": "text/x-python",
   "name": "python",
   "nbconvert_exporter": "python",
   "pygments_lexer": "ipython3",
   "version": "3.6.1"
  }
 },
 "nbformat": 4,
 "nbformat_minor": 2
}
